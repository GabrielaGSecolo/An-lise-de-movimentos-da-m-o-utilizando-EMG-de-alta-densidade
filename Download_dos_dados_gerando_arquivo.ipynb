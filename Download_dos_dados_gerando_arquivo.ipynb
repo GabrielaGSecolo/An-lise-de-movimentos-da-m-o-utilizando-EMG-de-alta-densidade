{
  "nbformat": 4,
  "nbformat_minor": 0,
  "metadata": {
    "colab": {
      "name": "Download dos dados/gerando arquivo",
      "provenance": [],
      "authorship_tag": "ABX9TyPPm0+SjBCIe7oGRW2hobOI",
      "include_colab_link": true
    },
    "kernelspec": {
      "name": "python3",
      "display_name": "Python 3"
    },
    "language_info": {
      "name": "python"
    }
  },
  "cells": [
    {
      "cell_type": "markdown",
      "metadata": {
        "id": "view-in-github",
        "colab_type": "text"
      },
      "source": [
        "<a href=\"https://colab.research.google.com/github/GabrielaGSecolo/Analise-de-movimentos-da-mao-utilizando-EMG-de-alta-densidade/blob/main/Download_dos_dados_gerando_arquivo.ipynb\" target=\"_parent\"><img src=\"https://colab.research.google.com/assets/colab-badge.svg\" alt=\"Open In Colab\"/></a>"
      ]
    },
    {
      "cell_type": "markdown",
      "source": [
        "Link para acessar o artigo:\n",
        "\n",
        "https://www.nature.com/articles/s41597-021-00843-9\n",
        "\n",
        "Link para acessar a tabela de movimentos:\n",
        "\n",
        "https://www.nature.com/articles/s41597-021-00843-9/tables/2\n",
        "\n",
        "Link dos dados dos sujeitos: https://springernature.figshare.com/collections/A_database_of_high-density_surface_electromyogram_signals_comprising_65_hand_gestures_performed_in_an_isometric_manner/5090861"
      ],
      "metadata": {
        "id": "OkIxjV95Vrbh"
      }
    },
    {
      "cell_type": "markdown",
      "source": [
        "Legenda dos dados:\n",
        "\n",
        "Força 0 - dedo 2 (indicador)\n",
        "\n",
        "Força 1 - dedo 3 (do meio)\n",
        "\n",
        "Força 2 - dedo 4 (anelar)\n",
        "\n",
        "Força 3 - dedo 5 (mindinho)\n",
        "\n",
        "Força 4 - Flexão e extensão do dedo 1 (polegar)\n",
        "\n",
        "Força 5 - Abdução(pra fora) e adução(pra dentro) do polegar\n",
        "\n",
        "Força 6 - Flexão e extensão do punho\n",
        "\n",
        "Força 7 - supinação e pronação do punho\n",
        "\n",
        "Força 8 - Desvio radial e ulnar\n",
        "\n",
        "obs: pra fora e pra detro é em relação a posição antomica (palma da mão virada pra cima)"
      ],
      "metadata": {
        "id": "me9lHE_bVuF_"
      }
    },
    {
      "cell_type": "markdown",
      "source": [
        "link de cada sujeito:\n",
        "\n",
        "\n",
        "* Suj01: https://springernature.figshare.com/ndownloader/files/25295225\n",
        "* Suj02: https://springernature.figshare.com/ndownloader/files/25295423\n",
        "* Suj03: https://springernature.figshare.com/ndownloader/files/25296089\n",
        "* Suj04: https://springernature.figshare.com/ndownloader/files/25296368\n",
        "* Suj05: https://springernature.figshare.com/ndownloader/files/25308197\n",
        "* Suj06: https://springernature.figshare.com/ndownloader/files/25296644\n",
        "* Suj07: https://springernature.figshare.com/ndownloader/files/25296788\n",
        "* Suj08: https://springernature.figshare.com/ndownloader/files/25309355\n",
        "* Suj09: https://springernature.figshare.com/ndownloader/files/25312253\n",
        "* Suj10: https://springernature.figshare.com/ndownloader/files/25313726\n",
        "* Suj11: https://springernature.figshare.com/ndownloader/files/25313324\n",
        "* Suj12: https://springernature.figshare.com/ndownloader/files/25312382\n",
        "* Suj13: https://springernature.figshare.com/ndownloader/files/25313078\n",
        "* Suj14: https://springernature.figshare.com/ndownloader/files/25313597\n",
        "* Suj15: https://springernature.figshare.com/ndownloader/files/25323104\n",
        "* Suj16: https://springernature.figshare.com/ndownloader/files/25323134\n",
        "* Suj17: https://springernature.figshare.com/ndownloader/files/25323215\n",
        "* Suj18: https://springernature.figshare.com/ndownloader/files/25323065\n",
        "* Suj19: https://springernature.figshare.com/ndownloader/files/25323257\n",
        "* Suj20: https://springernature.figshare.com/ndownloader/files/24350114\n"
      ],
      "metadata": {
        "id": "rmPPwRFFV4UX"
      }
    },
    {
      "cell_type": "markdown",
      "source": [
        "**Permitindo acesso ao drive**"
      ],
      "metadata": {
        "id": "tLkO28tiWEJc"
      }
    },
    {
      "cell_type": "code",
      "source": [
        "from google.colab import drive\n",
        "drive.mount('/content/drive')"
      ],
      "metadata": {
        "colab": {
          "base_uri": "https://localhost:8080/"
        },
        "id": "uP4rr6rxDCJj",
        "outputId": "ed06f994-94e5-4760-c97d-c6fead3589a8"
      },
      "execution_count": null,
      "outputs": [
        {
          "output_type": "stream",
          "name": "stdout",
          "text": [
            "Mounted at /content/drive\n"
          ]
        }
      ]
    },
    {
      "cell_type": "code",
      "source": [
        "!pip install wget\n",
        "import pickle #importar a biblioteca pickle\n",
        "import wget\n",
        "import tables\n",
        "import numpy as np \n",
        "import matplotlib.pyplot as plt\n",
        "import pandas as pd\n",
        " \n",
        "file_id = ['25295225','25295423','25296089','25296368','25308197','25296644','25296788','25309355','25312253','25313726',\n",
        "           '25313324','25312382','25313078','25313597','25323104','25323134','25323215','25323065','25323257','24350114'] #o número do final do link que identifica cada sujeito\n",
        "\n",
        "base_url = 'https://springernature.figshare.com/ndownloader/files/' #isso é o que não muda no link\n",
        "for i in range(0,20):\n",
        "  url = base_url+file_id[i] #to juntando essas duas partes pra gerar o link inteiro \n",
        "  filename = wget.download(url)\n",
        "  subject_number = filename[1:3]#como funiona? Exemplo: s16.mat aqui é tudo string, e eu só quero o '16', só quero o número,\n",
        "                                #então eu pego a segunda string(que é o numero 1 nesse caso), e vai até a segunda string(número 6)\n",
        "    \n",
        "  file = tables.open_file(filename)\n",
        "  a = file.root.adjusted_class[0,:]\n",
        "  \n",
        "  for k in range(0,9):\n",
        "    grafico=forcaxmovimento(k) #a variável grafico vai salvar os graficos do forcaxmovimento das forças\n",
        "    outfile= open('/content/drive/MyDrive/PDPD/Suj'+subject_number+'_F'+str(k)+'.pkl','wb') #nome inteiro do arquivo pra indicar onde o arquivo deve ser gravado, isto é, na pasta PDPD do meu drive\n",
        "                                                             preparando o arquivo F1.pkl para receber os dados\n",
        "    pickle.dump(grafico,outfile) #fala quais são os dados que o arquivo F1.pkl vai receber, que no caso é grafico\n",
        "    outfile.close() #encerra o código"
      ],
      "metadata": {
        "id": "2RWhXTBgWLld"
      },
      "execution_count": null,
      "outputs": []
    }
  ]
}